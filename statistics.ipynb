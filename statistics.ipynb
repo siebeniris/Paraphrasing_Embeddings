{
 "cells": [
  {
   "cell_type": "code",
   "execution_count": 3,
   "metadata": {},
   "outputs": [
    {
     "data": {
      "text/plain": [
       "defaultdict(int, {'neg': 2662, 'pos': 1323})"
      ]
     },
     "execution_count": 3,
     "metadata": {},
     "output_type": "execute_result"
    }
   ],
   "source": [
    "import csv\n",
    "from collections import defaultdict\n",
    "\n",
    "\n",
    "test =open('test_simplified.csv')\n",
    "test_cr = csv.reader(test)\n",
    "next(test_cr)\n",
    "label_dict = defaultdict(int)\n",
    "\n",
    "for row in test_cr:\n",
    "    prem, hypo, gold_label = row\n",
    "    if gold_label ==\"yes\":\n",
    "        label_dict[\"pos\"]+=1\n",
    "    else:\n",
    "        label_dict[\"neg\"]+=1\n",
    "    \n",
    "label_dict"
   ]
  }
 ],
 "metadata": {
  "kernelspec": {
   "display_name": "Environment (conda_nlp-roth)",
   "language": "python",
   "name": "conda_nlp-roth"
  },
  "language_info": {
   "codemirror_mode": {
    "name": "ipython",
    "version": 3
   },
   "file_extension": ".py",
   "mimetype": "text/x-python",
   "name": "python",
   "nbconvert_exporter": "python",
   "pygments_lexer": "ipython3",
   "version": "3.6.7"
  }
 },
 "nbformat": 4,
 "nbformat_minor": 2
}
