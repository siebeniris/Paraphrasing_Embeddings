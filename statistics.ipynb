{
 "cells": [
  {
   "cell_type": "code",
   "execution_count": 8,
   "metadata": {},
   "outputs": [
    {
     "name": "stdout",
     "output_type": "stream",
     "text": [
      "defaultdict(<class 'int'>, {'neg': 2661, 'pos': 1322})\n",
      "number of path dependency: 1717\n"
     ]
    }
   ],
   "source": [
    "import csv\n",
    "from collections import defaultdict\n",
    "import re\n",
    "import json\n",
    "\n",
    "def untypify(typed_relation):\n",
    "    return re.sub(\n",
    "        r'~[0-9]+~-([^~]+?)-~[0-9]+~',\n",
    "        r'\\1', typed_relation\n",
    "    )\n",
    "\n",
    "\n",
    "path2id =  json.load(fp=open('data_/path2id.json'))\n",
    "\n",
    "\n",
    "\n",
    "test =open('test_simplified.csv')\n",
    "test_cr = csv.reader(test)\n",
    "next(test_cr)\n",
    "label_dict = defaultdict(int)\n",
    "\n",
    "path=[]\n",
    "\n",
    "\n",
    "for row in test_cr:\n",
    "    prem, hypo, gold_label = row\n",
    "    prem = untypify(prem)\n",
    "    hypo = untypify(hypo)\n",
    "    if prem in path2id.keys() and hypo in path2id.keys():\n",
    "        if gold_label ==\"yes\":\n",
    "            label_dict[\"pos\"]+=1\n",
    "        else:\n",
    "            label_dict[\"neg\"]+=1\n",
    "\n",
    "    \n",
    "    path.append(prem)\n",
    "    path.append(hypo)\n",
    "    \n",
    "    \n",
    "print(label_dict)\n",
    "print('number of path dependency:', len(set(path)))\n",
    "\n"
   ]
  }
 ],
 "metadata": {
  "kernelspec": {
   "display_name": "Python 3",
   "language": "python",
   "name": "python3"
  },
  "language_info": {
   "codemirror_mode": {
    "name": "ipython",
    "version": 3
   },
   "file_extension": ".py",
   "mimetype": "text/x-python",
   "name": "python",
   "nbconvert_exporter": "python",
   "pygments_lexer": "ipython3",
   "version": "3.6.7"
  }
 },
 "nbformat": 4,
 "nbformat_minor": 2
}
